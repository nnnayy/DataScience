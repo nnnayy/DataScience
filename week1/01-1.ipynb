{
 "cells": [
  {
   "cell_type": "markdown",
   "id": "6acc3c08",
   "metadata": {},
   "source": [
    "# 주피터 노트북 사용법\n",
    "* Shift + Enter 키를 누르면 셀이 실행되고 커서가 다음 셀로 이동함\n",
    "* Enter 키를 누르면 다시 편집상태로 돌아옴\n",
    "* ESC 키를 누르고\n",
    "    * a 키를 누르면 위에 셀이 추가됨\n",
    "    * b 키를 누르면 아래에 셀이 추가됨\n",
    "    * dd 키를 누르면 셀이 삭제됨\n",
    "    * m 키를 누르면 문서 셀로 변경됨\n",
    "    * y 키를 누르면 코드 셀로 변경됨\n",
    "    \n",
    "## 마크다운이란\n",
    "* 코드와 함께 문서화할 수 있음\n",
    "* 문서화할 수 있는 `문법`\n",
    "\n",
    "```\n",
    "여러 줄의 설명을 \n",
    "줄바꿈으로 쓰고자 할 때\n",
    "```"
   ]
  },
  {
   "cell_type": "code",
   "execution_count": null,
   "id": "2b47d744",
   "metadata": {},
   "outputs": [],
   "source": [
    "print(\"Hello World!\")"
   ]
  },
  {
   "cell_type": "code",
   "execution_count": null,
   "id": "0c377145",
   "metadata": {},
   "outputs": [],
   "source": [
    "a = 1\n",
    "b = 2\n",
    "a + b"
   ]
  },
  {
   "cell_type": "code",
   "execution_count": null,
   "id": "3a390f6f",
   "metadata": {},
   "outputs": [],
   "source": [
    "for i in range(10000):\n",
    "    print(i)"
   ]
  },
  {
   "cell_type": "code",
   "execution_count": null,
   "id": "0f9f92da",
   "metadata": {},
   "outputs": [],
   "source": [
    "!pip install jupyter_nbextensions_configurator jupyter_contrib_nbextensions\n",
    "!jupyter contrib nbextension install --user\n",
    "!jupyter nbextensions_configurator enable --user"
   ]
  },
  {
   "cell_type": "code",
   "execution_count": null,
   "id": "88f90409",
   "metadata": {},
   "outputs": [],
   "source": []
  }
 ],
 "metadata": {
  "jupytext": {
   "formats": "ipynb,auto:light"
  },
  "kernelspec": {
   "display_name": "Python 3 (ipykernel)",
   "language": "python",
   "name": "python3"
  },
  "language_info": {
   "codemirror_mode": {
    "name": "ipython",
    "version": 3
   },
   "file_extension": ".py",
   "mimetype": "text/x-python",
   "name": "python",
   "nbconvert_exporter": "python",
   "pygments_lexer": "ipython3",
   "version": "3.11.5"
  },
  "toc": {
   "base_numbering": 1,
   "nav_menu": {},
   "number_sections": true,
   "sideBar": true,
   "skip_h1_title": false,
   "title_cell": "Table of Contents",
   "title_sidebar": "Contents",
   "toc_cell": false,
   "toc_position": {},
   "toc_section_display": true,
   "toc_window_display": false
  }
 },
 "nbformat": 4,
 "nbformat_minor": 5
}
